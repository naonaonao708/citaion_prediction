{
 "cells": [
  {
   "cell_type": "code",
   "execution_count": 22,
   "metadata": {},
   "outputs": [],
   "source": [
    "import os\n",
    "import json\n",
    "import numpy as np\n",
    "import pandas as pd\n",
    "from pandas import json_normalize\n",
    "import pyarrow.feather as feather"
   ]
  },
  {
   "cell_type": "code",
   "execution_count": 3,
   "metadata": {},
   "outputs": [],
   "source": [
    "def get_data_iter(fpath):\n",
    "    with open(fpath, 'r') as f:\n",
    "        for l in f:\n",
    "            yield l"
   ]
  },
  {
   "cell_type": "code",
   "execution_count": 20,
   "metadata": {},
   "outputs": [],
   "source": [
    "train_iter = get_data_iter('/data/test_data.json')"
   ]
  },
  {
   "cell_type": "code",
   "execution_count": 30,
   "metadata": {},
   "outputs": [],
   "source": [
    "input_dir = '/data/'"
   ]
  },
  {
   "cell_type": "code",
   "execution_count": 5,
   "metadata": {},
   "outputs": [
    {
     "name": "stdout",
     "output_type": "stream",
     "text": [
      "{'id': '1605.00995', 'submitter': 'Simonetta Abenda', 'authors': 'Simonetta Abenda', 'title': 'On a family of KP multi-line solitons associated to rational\\n  degenerations of real hyperelliptic curves and to the finite non-periodic\\n  Toda hierarchy', 'comments': '48 pages, 5 figures. Revised manuscript. Added sections, references\\n  and 2 figures', 'journal-ref': 'J. Geom. Phys. 119 (2017), 112-138', 'doi': '10.1016/j.geomphys.2017.04.005', 'report-no': None, 'categories': 'math-ph math.MP', 'license': 'http://arxiv.org/licenses/nonexclusive-distrib/1.0/', 'abstract': '  We classify the soliton data in the totally non--negative part of Gr(k,n)\\nwhich may be associated to algebraic-geometric data on certain rational\\ndegenerations of regular hyperelliptic M-curves. Such degenerate rational curve\\nG is a desingularization of that constructed in Abenda-Grinevich\\n(arXiv:1506.00563) for soliton data in the totally positive part of Gr(n-1,n)\\nand the KP wavefunctions are the same in such case. G is also the curve\\nconstructed in the paper for soliton data in the totally positive part of\\nGr(1,n). For any such G and for any fixed k between 2 and (n-2), we show that\\nk-compatible soliton data correspond to a family of KP multi-line solitons\\n(T-hyperelliptic) which parametrize soliton data in an (n-1)--dimensional\\nvariety of the totally positive part of the Grassmannian Gr(k,n). We explicitly\\ncharacterize T-hyperelliptic solitons from the algebraic-point of view.\\nT-hyperelliptic solitons are also connected to the solutions of the finite\\nnon-periodic Toda hierarchy because the tau function is the same for both\\nsystems. We investigate such relation from the algebraic point of view and\\ncompare the two spectral problems. In particular, the vacuum KP divisor and the\\nToda divisor coincide, while k--compatible divisors may be recursively\\nconstructed using known recursions for the Toda system. Finally, we also\\nexplain how KP divisors change under the space--time transformation which\\ninduces a duality tranformation from soliton data in Gr(k,n) to soliton data in\\nGr(n-k,n) and compare the action of such transformation both for the KP and the\\nToda systems.\\n', 'versions': [{'version': 'v1', 'created': 'Tue, 3 May 2016 17:44:20 GMT'}, {'version': 'v2', 'created': 'Mon, 4 Jul 2016 12:18:35 GMT'}, {'version': 'v3', 'created': 'Sat, 17 Dec 2016 10:56:12 GMT'}], 'update_date': '2019-06-27', 'authors_parsed': [['Abenda', 'Simonetta', '']], 'doi_cites': '5'}\n",
      "['id', 'submitter', 'authors', 'title', 'comments', 'journal-ref', 'doi', 'report-no', 'categories', 'license', 'abstract', 'versions', 'update_date', 'authors_parsed', 'doi_cites']\n"
     ]
    }
   ],
   "source": [
    "for i, line in enumerate(train_iter):\n",
    "    if i > 0:\n",
    "        break\n",
    "    print(json.loads(line))\n",
    "    print(list(json.loads(line).keys()))"
   ]
  },
  {
   "cell_type": "code",
   "execution_count": 11,
   "metadata": {},
   "outputs": [],
   "source": [
    "df = pd.DataFrame(train_iter)"
   ]
  },
  {
   "cell_type": "code",
   "execution_count": 36,
   "metadata": {},
   "outputs": [],
   "source": [
    "train_df = pd.read_json(os.path.join('data/train_data.json'), lines=True)"
   ]
  },
  {
   "cell_type": "markdown",
   "metadata": {},
   "source": []
  },
  {
   "cell_type": "code",
   "execution_count": 37,
   "metadata": {},
   "outputs": [],
   "source": [
    "test_df = pd.read_json(os.path.join('data/test_data.json'), lines=True)"
   ]
  },
  {
   "cell_type": "code",
   "execution_count": 38,
   "metadata": {},
   "outputs": [
    {
     "data": {
      "text/html": [
       "<div>\n",
       "<style scoped>\n",
       "    .dataframe tbody tr th:only-of-type {\n",
       "        vertical-align: middle;\n",
       "    }\n",
       "\n",
       "    .dataframe tbody tr th {\n",
       "        vertical-align: top;\n",
       "    }\n",
       "\n",
       "    .dataframe thead th {\n",
       "        text-align: right;\n",
       "    }\n",
       "</style>\n",
       "<table border=\"1\" class=\"dataframe\">\n",
       "  <thead>\n",
       "    <tr style=\"text-align: right;\">\n",
       "      <th></th>\n",
       "      <th>id</th>\n",
       "      <th>submitter</th>\n",
       "      <th>authors</th>\n",
       "      <th>title</th>\n",
       "      <th>comments</th>\n",
       "      <th>journal-ref</th>\n",
       "      <th>doi</th>\n",
       "      <th>report-no</th>\n",
       "      <th>categories</th>\n",
       "      <th>license</th>\n",
       "      <th>abstract</th>\n",
       "      <th>versions</th>\n",
       "      <th>update_date</th>\n",
       "      <th>authors_parsed</th>\n",
       "      <th>doi_cites</th>\n",
       "      <th>cites</th>\n",
       "    </tr>\n",
       "  </thead>\n",
       "  <tbody>\n",
       "    <tr>\n",
       "      <th>0</th>\n",
       "      <td>hep-ph/9902295</td>\n",
       "      <td>Michael Kraemer</td>\n",
       "      <td>Mark E. Hayes (University College London) and ...</td>\n",
       "      <td>Heavy-Flavour Production at HERA</td>\n",
       "      <td>LaTeX, 21 pages, 13 Postscript figures. Summar...</td>\n",
       "      <td>J.Phys.G25:1477-1493,1999</td>\n",
       "      <td>10.1088/0954-3899/25/7/332</td>\n",
       "      <td>CERN-TH/99-30, UCL/HEP 99-03</td>\n",
       "      <td>hep-ph hep-ex</td>\n",
       "      <td>None</td>\n",
       "      <td>We review the theoretical and experimental s...</td>\n",
       "      <td>[{'version': 'v1', 'created': 'Wed, 10 Feb 199...</td>\n",
       "      <td>2008-11-26</td>\n",
       "      <td>[[Hayes, Mark E., , University College London]...</td>\n",
       "      <td>1</td>\n",
       "      <td>NaN</td>\n",
       "    </tr>\n",
       "    <tr>\n",
       "      <th>1</th>\n",
       "      <td>1403.7138</td>\n",
       "      <td>Aigen Li</td>\n",
       "      <td>Qi Li, S.L. Liang, Aigen Li (University of Mis...</td>\n",
       "      <td>Spectropolarimetric Constraints on the Nature ...</td>\n",
       "      <td>5 pages, 2 figures; accepted for publication i...</td>\n",
       "      <td>None</td>\n",
       "      <td>10.1093/mnrasl/slu021</td>\n",
       "      <td>None</td>\n",
       "      <td>astro-ph.GA</td>\n",
       "      <td>http://arxiv.org/licenses/nonexclusive-distrib...</td>\n",
       "      <td>While it is well recognized that interstella...</td>\n",
       "      <td>[{'version': 'v1', 'created': 'Thu, 27 Mar 201...</td>\n",
       "      <td>2015-06-19</td>\n",
       "      <td>[[Li, Qi, , University of Missouri], [Liang, S...</td>\n",
       "      <td>8</td>\n",
       "      <td>7.0</td>\n",
       "    </tr>\n",
       "    <tr>\n",
       "      <th>2</th>\n",
       "      <td>1405.5857</td>\n",
       "      <td>Michael Mortonson</td>\n",
       "      <td>Michael J. Mortonson, Uro\\v{s} Seljak</td>\n",
       "      <td>A joint analysis of Planck and BICEP2 B modes ...</td>\n",
       "      <td>13 pages, 4 figures; submitted to JCAP; refere...</td>\n",
       "      <td>JCAP10(2014)035</td>\n",
       "      <td>10.1088/1475-7516/2014/10/035</td>\n",
       "      <td>None</td>\n",
       "      <td>astro-ph.CO gr-qc hep-ph hep-th</td>\n",
       "      <td>http://arxiv.org/licenses/nonexclusive-distrib...</td>\n",
       "      <td>We analyze BICEP2 and Planck data using a mo...</td>\n",
       "      <td>[{'version': 'v1', 'created': 'Thu, 22 May 201...</td>\n",
       "      <td>2014-10-17</td>\n",
       "      <td>[[Mortonson, Michael J., ], [Seljak, Uroš, ]]</td>\n",
       "      <td>122</td>\n",
       "      <td>188.0</td>\n",
       "    </tr>\n",
       "    <tr>\n",
       "      <th>3</th>\n",
       "      <td>1807.01034</td>\n",
       "      <td>Evangelos Thomas Karamatskos</td>\n",
       "      <td>Evangelos T. Karamatskos, Sebastian Raabe, Ter...</td>\n",
       "      <td>Molecular movie of ultrafast coherent rotation...</td>\n",
       "      <td>9 Figures</td>\n",
       "      <td>Nat Commun 10, 3364 (2019)</td>\n",
       "      <td>10.1038/s41467-019-11122-y</td>\n",
       "      <td>None</td>\n",
       "      <td>physics.chem-ph physics.atom-ph quant-ph</td>\n",
       "      <td>http://arxiv.org/licenses/nonexclusive-distrib...</td>\n",
       "      <td>Recording molecular movies on ultrafast time...</td>\n",
       "      <td>[{'version': 'v1', 'created': 'Tue, 3 Jul 2018...</td>\n",
       "      <td>2020-05-19</td>\n",
       "      <td>[[Karamatskos, Evangelos T., ], [Raabe, Sebast...</td>\n",
       "      <td>6</td>\n",
       "      <td>8.0</td>\n",
       "    </tr>\n",
       "    <tr>\n",
       "      <th>4</th>\n",
       "      <td>1905.05921</td>\n",
       "      <td>Juanjuan Gu</td>\n",
       "      <td>Juanjuan Gu and Yun Jing</td>\n",
       "      <td>A Modified Mixed Domain Method for Modeling Ac...</td>\n",
       "      <td>None</td>\n",
       "      <td>None</td>\n",
       "      <td>10.1121/10.0001454</td>\n",
       "      <td>None</td>\n",
       "      <td>physics.med-ph physics.comp-ph</td>\n",
       "      <td>http://arxiv.org/licenses/nonexclusive-distrib...</td>\n",
       "      <td>In this paper, phase correction and amplitud...</td>\n",
       "      <td>[{'version': 'v1', 'created': 'Wed, 15 May 201...</td>\n",
       "      <td>2020-07-15</td>\n",
       "      <td>[[Gu, Juanjuan, ], [Jing, Yun, ]]</td>\n",
       "      <td>0</td>\n",
       "      <td>NaN</td>\n",
       "    </tr>\n",
       "  </tbody>\n",
       "</table>\n",
       "</div>"
      ],
      "text/plain": [
       "               id                     submitter  \\\n",
       "0  hep-ph/9902295               Michael Kraemer   \n",
       "1       1403.7138                      Aigen Li   \n",
       "2       1405.5857             Michael Mortonson   \n",
       "3      1807.01034  Evangelos Thomas Karamatskos   \n",
       "4      1905.05921                   Juanjuan Gu   \n",
       "\n",
       "                                             authors  \\\n",
       "0  Mark E. Hayes (University College London) and ...   \n",
       "1  Qi Li, S.L. Liang, Aigen Li (University of Mis...   \n",
       "2              Michael J. Mortonson, Uro\\v{s} Seljak   \n",
       "3  Evangelos T. Karamatskos, Sebastian Raabe, Ter...   \n",
       "4                           Juanjuan Gu and Yun Jing   \n",
       "\n",
       "                                               title  \\\n",
       "0                   Heavy-Flavour Production at HERA   \n",
       "1  Spectropolarimetric Constraints on the Nature ...   \n",
       "2  A joint analysis of Planck and BICEP2 B modes ...   \n",
       "3  Molecular movie of ultrafast coherent rotation...   \n",
       "4  A Modified Mixed Domain Method for Modeling Ac...   \n",
       "\n",
       "                                            comments  \\\n",
       "0  LaTeX, 21 pages, 13 Postscript figures. Summar...   \n",
       "1  5 pages, 2 figures; accepted for publication i...   \n",
       "2  13 pages, 4 figures; submitted to JCAP; refere...   \n",
       "3                                          9 Figures   \n",
       "4                                               None   \n",
       "\n",
       "                  journal-ref                            doi  \\\n",
       "0   J.Phys.G25:1477-1493,1999     10.1088/0954-3899/25/7/332   \n",
       "1                        None          10.1093/mnrasl/slu021   \n",
       "2             JCAP10(2014)035  10.1088/1475-7516/2014/10/035   \n",
       "3  Nat Commun 10, 3364 (2019)     10.1038/s41467-019-11122-y   \n",
       "4                        None             10.1121/10.0001454   \n",
       "\n",
       "                      report-no                                categories  \\\n",
       "0  CERN-TH/99-30, UCL/HEP 99-03                             hep-ph hep-ex   \n",
       "1                          None                               astro-ph.GA   \n",
       "2                          None           astro-ph.CO gr-qc hep-ph hep-th   \n",
       "3                          None  physics.chem-ph physics.atom-ph quant-ph   \n",
       "4                          None            physics.med-ph physics.comp-ph   \n",
       "\n",
       "                                             license  \\\n",
       "0                                               None   \n",
       "1  http://arxiv.org/licenses/nonexclusive-distrib...   \n",
       "2  http://arxiv.org/licenses/nonexclusive-distrib...   \n",
       "3  http://arxiv.org/licenses/nonexclusive-distrib...   \n",
       "4  http://arxiv.org/licenses/nonexclusive-distrib...   \n",
       "\n",
       "                                            abstract  \\\n",
       "0    We review the theoretical and experimental s...   \n",
       "1    While it is well recognized that interstella...   \n",
       "2    We analyze BICEP2 and Planck data using a mo...   \n",
       "3    Recording molecular movies on ultrafast time...   \n",
       "4    In this paper, phase correction and amplitud...   \n",
       "\n",
       "                                            versions update_date  \\\n",
       "0  [{'version': 'v1', 'created': 'Wed, 10 Feb 199...  2008-11-26   \n",
       "1  [{'version': 'v1', 'created': 'Thu, 27 Mar 201...  2015-06-19   \n",
       "2  [{'version': 'v1', 'created': 'Thu, 22 May 201...  2014-10-17   \n",
       "3  [{'version': 'v1', 'created': 'Tue, 3 Jul 2018...  2020-05-19   \n",
       "4  [{'version': 'v1', 'created': 'Wed, 15 May 201...  2020-07-15   \n",
       "\n",
       "                                      authors_parsed  doi_cites  cites  \n",
       "0  [[Hayes, Mark E., , University College London]...          1    NaN  \n",
       "1  [[Li, Qi, , University of Missouri], [Liang, S...          8    7.0  \n",
       "2      [[Mortonson, Michael J., ], [Seljak, Uroš, ]]        122  188.0  \n",
       "3  [[Karamatskos, Evangelos T., ], [Raabe, Sebast...          6    8.0  \n",
       "4                  [[Gu, Juanjuan, ], [Jing, Yun, ]]          0    NaN  "
      ]
     },
     "execution_count": 38,
     "metadata": {},
     "output_type": "execute_result"
    }
   ],
   "source": [
    "train_df.head()"
   ]
  },
  {
   "cell_type": "code",
   "execution_count": 40,
   "metadata": {},
   "outputs": [
    {
     "data": {
      "text/plain": [
       "Index(['id', 'submitter', 'authors', 'title', 'comments', 'journal-ref', 'doi',\n",
       "       'report-no', 'categories', 'license', 'abstract', 'versions',\n",
       "       'update_date', 'authors_parsed', 'doi_cites', 'cites'],\n",
       "      dtype='object')"
      ]
     },
     "execution_count": 40,
     "metadata": {},
     "output_type": "execute_result"
    }
   ],
   "source": [
    "train_df.columns"
   ]
  },
  {
   "cell_type": "code",
   "execution_count": 42,
   "metadata": {},
   "outputs": [
    {
     "data": {
      "text/plain": [
       "(851524, 16)"
      ]
     },
     "execution_count": 42,
     "metadata": {},
     "output_type": "execute_result"
    }
   ],
   "source": [
    "train_df.shape"
   ]
  },
  {
   "cell_type": "code",
   "execution_count": 44,
   "metadata": {},
   "outputs": [
    {
     "data": {
      "text/html": [
       "<div>\n",
       "<style scoped>\n",
       "    .dataframe tbody tr th:only-of-type {\n",
       "        vertical-align: middle;\n",
       "    }\n",
       "\n",
       "    .dataframe tbody tr th {\n",
       "        vertical-align: top;\n",
       "    }\n",
       "\n",
       "    .dataframe thead th {\n",
       "        text-align: right;\n",
       "    }\n",
       "</style>\n",
       "<table border=\"1\" class=\"dataframe\">\n",
       "  <thead>\n",
       "    <tr style=\"text-align: right;\">\n",
       "      <th></th>\n",
       "      <th>doi_cites</th>\n",
       "      <th>cites</th>\n",
       "    </tr>\n",
       "  </thead>\n",
       "  <tbody>\n",
       "    <tr>\n",
       "      <th>count</th>\n",
       "      <td>851524.000000</td>\n",
       "      <td>15117.000000</td>\n",
       "    </tr>\n",
       "    <tr>\n",
       "      <th>mean</th>\n",
       "      <td>23.372980</td>\n",
       "      <td>30.427664</td>\n",
       "    </tr>\n",
       "    <tr>\n",
       "      <th>std</th>\n",
       "      <td>85.288382</td>\n",
       "      <td>122.773141</td>\n",
       "    </tr>\n",
       "    <tr>\n",
       "      <th>min</th>\n",
       "      <td>0.000000</td>\n",
       "      <td>1.000000</td>\n",
       "    </tr>\n",
       "    <tr>\n",
       "      <th>25%</th>\n",
       "      <td>2.000000</td>\n",
       "      <td>4.000000</td>\n",
       "    </tr>\n",
       "    <tr>\n",
       "      <th>50%</th>\n",
       "      <td>8.000000</td>\n",
       "      <td>11.000000</td>\n",
       "    </tr>\n",
       "    <tr>\n",
       "      <th>75%</th>\n",
       "      <td>22.000000</td>\n",
       "      <td>28.000000</td>\n",
       "    </tr>\n",
       "    <tr>\n",
       "      <th>max</th>\n",
       "      <td>25173.000000</td>\n",
       "      <td>8723.000000</td>\n",
       "    </tr>\n",
       "  </tbody>\n",
       "</table>\n",
       "</div>"
      ],
      "text/plain": [
       "           doi_cites         cites\n",
       "count  851524.000000  15117.000000\n",
       "mean       23.372980     30.427664\n",
       "std        85.288382    122.773141\n",
       "min         0.000000      1.000000\n",
       "25%         2.000000      4.000000\n",
       "50%         8.000000     11.000000\n",
       "75%        22.000000     28.000000\n",
       "max     25173.000000   8723.000000"
      ]
     },
     "execution_count": 44,
     "metadata": {},
     "output_type": "execute_result"
    }
   ],
   "source": [
    "train_df.describe()"
   ]
  },
  {
   "cell_type": "code",
   "execution_count": null,
   "metadata": {},
   "outputs": [],
   "source": []
  }
 ],
 "metadata": {
  "interpreter": {
   "hash": "aee8b7b246df8f9039afb4144a1f6fd8d2ca17a180786b69acc140d282b71a49"
  },
  "kernelspec": {
   "display_name": "Python 3.9.12 64-bit",
   "language": "python",
   "name": "python3"
  },
  "language_info": {
   "codemirror_mode": {
    "name": "ipython",
    "version": 3
   },
   "file_extension": ".py",
   "mimetype": "text/x-python",
   "name": "python",
   "nbconvert_exporter": "python",
   "pygments_lexer": "ipython3",
   "version": "3.9.12"
  },
  "orig_nbformat": 4
 },
 "nbformat": 4,
 "nbformat_minor": 2
}
